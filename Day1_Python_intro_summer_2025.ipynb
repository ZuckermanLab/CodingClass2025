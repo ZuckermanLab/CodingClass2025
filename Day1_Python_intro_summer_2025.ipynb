{
  "nbformat": 4,
  "nbformat_minor": 0,
  "metadata": {
    "colab": {
      "provenance": [],
      "include_colab_link": true
    },
    "kernelspec": {
      "name": "python3",
      "display_name": "Python 3"
    },
    "language_info": {
      "name": "python"
    }
  },
  "cells": [
    {
      "cell_type": "markdown",
      "metadata": {
        "id": "view-in-github",
        "colab_type": "text"
      },
      "source": [
        "<a href=\"https://colab.research.google.com/github/ZuckermanLab/CodingClass2025/blob/main/Day1_Python_intro_summer_2025.ipynb\" target=\"_parent\"><img src=\"https://colab.research.google.com/assets/colab-badge.svg\" alt=\"Open In Colab\"/></a>"
      ]
    },
    {
      "cell_type": "markdown",
      "source": [
        "**It's OK to make a mistake**"
      ],
      "metadata": {
        "id": "1hLvEBUrv306"
      }
    },
    {
      "cell_type": "code",
      "execution_count": null,
      "metadata": {
        "id": "fdHCFyTNQ2Mt"
      },
      "outputs": [],
      "source": [
        "print 'hi there'\n"
      ]
    },
    {
      "cell_type": "markdown",
      "source": [
        "**Printing words, numbers, math calculations**"
      ],
      "metadata": {
        "id": "uzOXvf2cwJr4"
      }
    },
    {
      "cell_type": "code",
      "source": [
        "print('hi there')\n",
        "print('')  # make a blank line\n",
        "# by the way, a '#' symbol means the line is a comment - nothing following '#' on the same line gets processed\n",
        "\n",
        "a = 2\n",
        "b = 4\n",
        "c = a*b\n",
        "\n",
        "print('a=', a, '  b=', b, '  c=', c)\n",
        "\n",
        "# fancier way\n",
        "print(f'a={a}  b={b}  c={c}')  # python substitutes the variables' values in place of {a}, {b}, {c}"
      ],
      "metadata": {
        "id": "PVPGWXMhxeHO"
      },
      "execution_count": null,
      "outputs": []
    },
    {
      "cell_type": "code",
      "source": [
        "# you try - print something by typing below and running the cell\n"
      ],
      "metadata": {
        "id": "24SujmHW2gYB"
      },
      "execution_count": null,
      "outputs": []
    },
    {
      "cell_type": "markdown",
      "source": [
        "**Lists and loops**"
      ],
      "metadata": {
        "id": "sDDF61hKwgvh"
      }
    },
    {
      "cell_type": "code",
      "source": [
        "dan_list = ['dog', 'cat', 'mouse']\n",
        "\n",
        "for animal in dan_list:\n",
        "  print(animal)\n",
        "\n",
        "print('')\n",
        "\n",
        "for x in dan_list:\n",
        "  print(x)\n",
        "\n",
        "print('')\n",
        "\n",
        "for x in dan_list:\n",
        "  print(animal)\n",
        "\n"
      ],
      "metadata": {
        "id": "LSNUTrERNqym"
      },
      "execution_count": null,
      "outputs": []
    },
    {
      "cell_type": "code",
      "source": [
        "# you try - make a list of numbers and print them.  then do a math operation on them too"
      ],
      "metadata": {
        "id": "F0WUPdMj2z0X"
      },
      "execution_count": null,
      "outputs": []
    },
    {
      "cell_type": "code",
      "source": [
        "# concatenating strings\n",
        "\n",
        "print('dog'+'cat'+'moose')\n",
        "print('')\n",
        "\n",
        "print('dog'*'cat')"
      ],
      "metadata": {
        "id": "60ZI1zRhZ-EK"
      },
      "execution_count": null,
      "outputs": []
    },
    {
      "cell_type": "code",
      "source": [
        "# Accessing list elements by index and sorting lists\n",
        "dan_list = ['dog', 'cat', 'mouse'] # re-define in case changed\n",
        "\n",
        "print(dan_list[0])\n",
        "print(dan_list[1])\n",
        "print(dan_list[2])\n",
        "print('')\n",
        "\n",
        "print(dan_list, 'original list')\n",
        "print(sorted(dan_list))\n",
        "print(dan_list, \"after sorting by 'sorted'\")\n",
        "print('')\n",
        "\n",
        "dan_list.sort() # this actually changes the list - be careful!\n",
        "print(dan_list, \"after sorting by 'sort'\")"
      ],
      "metadata": {
        "id": "k3h147frF3zc"
      },
      "execution_count": null,
      "outputs": []
    },
    {
      "cell_type": "code",
      "source": [
        "# Python can do a lot of operations with strings - could be important for matching gene names\n",
        "# prompt: make a short list of lower-case words and write a loop to capitalize all of them\n",
        "\n",
        "words = ['apple', 'banana', 'cherry']\n",
        "\n",
        "for word in words:\n",
        "  print(word.capitalize())"
      ],
      "metadata": {
        "id": "yo8UY5U8ab6A"
      },
      "execution_count": null,
      "outputs": []
    },
    {
      "cell_type": "markdown",
      "source": [
        "**A little more with loops**"
      ],
      "metadata": {
        "id": "iDpx-W5LwqHq"
      }
    },
    {
      "cell_type": "code",
      "source": [
        "int_list = range(5)  # range is a built-in python function\n",
        "print(int_list)\n",
        "\n",
        "print('')\n",
        "\n",
        "for i in int_list:\n",
        "  print(i)\n",
        "\n",
        "print('')\n",
        "\n",
        "my_name = 'Dan'\n",
        "for i in int_list:\n",
        "  print(f'My name is {my_name}')\n",
        "\n",
        "print('')\n",
        "\n",
        "for i in int_list:\n",
        "  print(i, i**2, i**3)  # raise to a power with **\n"
      ],
      "metadata": {
        "id": "060ws2N9OfCT"
      },
      "execution_count": null,
      "outputs": []
    },
    {
      "cell_type": "markdown",
      "source": [
        "**Functions**"
      ],
      "metadata": {
        "id": "9PWg6KG4xhol"
      }
    },
    {
      "cell_type": "code",
      "source": [
        "# you try - make a loop over a range of integers and print i + i**2 for each\n",
        "# or write a function to sum the numbers from 1 to 100"
      ],
      "metadata": {
        "id": "eioJiDaj3bEH"
      },
      "execution_count": null,
      "outputs": []
    },
    {
      "cell_type": "code",
      "source": [
        "# functions are just lists of commands\n",
        "# they can take multiple 'arguments' (in parentheses) as inputs\n",
        "# they can 'return' an answer, which might be a number, string, list, ...\n",
        "\n",
        "def text_repeater(text, reps):\n",
        "  for i in range(reps):\n",
        "    print(text)\n",
        "\n",
        "text_repeater(\"oh it's you\", 4)\n",
        "\n",
        "text_repeater(\"Yes, it's me\", 2)\n",
        "\n",
        "def another_function():\n",
        "  print('')\n",
        "  print('this')\n",
        "  print('that')\n",
        "  print(2*3)\n",
        "\n",
        "another_function()\n",
        "\n",
        "def square_it(x):\n",
        "  return x**2\n",
        "\n",
        "print('')\n",
        "z = 5\n",
        "print( z, square_it(z))"
      ],
      "metadata": {
        "id": "EZDbWgpexg1r"
      },
      "execution_count": null,
      "outputs": []
    },
    {
      "cell_type": "code",
      "source": [
        "# you try - make a function and call it (execute it)\n",
        "# for example - write a function that prints some text 3 times, and then sums a list of numbers"
      ],
      "metadata": {
        "id": "EQ3IfEpL4G-y"
      },
      "execution_count": null,
      "outputs": []
    },
    {
      "cell_type": "code",
      "source": [
        "import time\n",
        "# Using a loop\n",
        "start_time_loop = time.time()\n",
        "my_list = list(range(10000000))\n",
        "squared_list = []\n",
        "for x in my_list:\n",
        "    squared_list.append(x**2)\n",
        "#squared_list = [x**2 for x in my_list]\n",
        "end_time_loop = time.time()\n",
        "print(f\"Loop time: {end_time_loop - start_time_loop:.6f} seconds\")\n",
        "\n",
        "for x in squared_list[0:10]:\n",
        "  print(x)"
      ],
      "metadata": {
        "id": "Og94YI8ZdMUF"
      },
      "execution_count": null,
      "outputs": []
    },
    {
      "cell_type": "code",
      "source": [
        "# prompt: import numpy and do a speed comparison between a numpy array operation and a loop raising each member of a list to the second power\n",
        "\n",
        "import numpy as np\n",
        "\n",
        "# Using NumPy\n",
        "start_time_numpy = time.time()\n",
        "my_array = np.arange(10000000)  # note difference from array\n",
        "squared_array = my_array**2\n",
        "end_time_numpy = time.time()\n",
        "print(f\"NumPy time: {end_time_numpy - start_time_numpy:.6f} seconds\")\n",
        "\n",
        "for x in squared_array[0:10]:\n",
        "  print(x)\n"
      ],
      "metadata": {
        "id": "V5nRQ5z94mdg"
      },
      "execution_count": null,
      "outputs": []
    },
    {
      "cell_type": "markdown",
      "source": [
        "**Comparisons by \"If\" statements**"
      ],
      "metadata": {
        "id": "P52w9my7T_1b"
      }
    },
    {
      "cell_type": "code",
      "source": [
        "# Is your drink 'small', 'medium', or 'large'\n",
        "size = 16 # ounces - but note that the computer does not know about physical units unless you tell it\n",
        "\n",
        "def sizer(size):\n",
        "  # these comparisons are performed in order and they stop once the condition is true\n",
        "  if size < 12:\n",
        "    print(size, '= small')\n",
        "  elif size < 16:  # elif abbreivates \"else if\"\n",
        "    print(size, '= medium')\n",
        "  else:\n",
        "    print(size, '= large')\n",
        "\n",
        "# note that '<' is different from '<=' (less than or equal)\n",
        "\n",
        "sizer(size)\n"
      ],
      "metadata": {
        "id": "rfZTJOzHUMQw"
      },
      "execution_count": null,
      "outputs": []
    },
    {
      "cell_type": "markdown",
      "source": [
        "**Introduction to pandas**"
      ],
      "metadata": {
        "id": "5ONgv7J6WDp7"
      }
    },
    {
      "cell_type": "code",
      "source": [
        "import pandas as pd # pandas abbreviates 'panel data analysis', economics jargon\n",
        "\n",
        "# Creating a DataFrame\n",
        "data = {\n",
        "    'Name': ['Alice', 'Bob', 'Charlie', 'David', 'Ernesto', 'Frieda'],\n",
        "    'Age': [24, 27, 22, 32, 81, 16],\n",
        "    'Score': [88, 92, 95, 89, 23, 98]\n",
        "}\n",
        "df = pd.DataFrame(data)\n",
        "\n",
        "print('DataFrame:')\n",
        "print(df)\n",
        "\n",
        "df.head() # useful for big datasets - shows first 5 rows"
      ],
      "metadata": {
        "id": "mBzJoqHbWGoe"
      },
      "execution_count": null,
      "outputs": []
    },
    {
      "cell_type": "code",
      "source": [
        "df.tail() # shows last 5 rows"
      ],
      "metadata": {
        "id": "8W7C7TChc1sB"
      },
      "execution_count": null,
      "outputs": []
    },
    {
      "cell_type": "code",
      "source": [
        "# Basic operations on DataFrame\n",
        "mean_age = df['Age'].mean()  # function 'mean' is built into pandas\n",
        "max_score = df['Score'].max()\n",
        "\n",
        "print('Mean Age:', mean_age)\n",
        "print('Max Score:', max_score)\n"
      ],
      "metadata": {
        "id": "0e40egtCXQIf"
      },
      "execution_count": null,
      "outputs": []
    },
    {
      "cell_type": "code",
      "source": [
        "# Adding a new column\n",
        "passing_criteria = 90\n",
        "df['Pass'] = df['Score'] > passing_criteria\n",
        "print('Updated DataFrame:')\n",
        "print(df)"
      ],
      "metadata": {
        "id": "LD2QeMJeXgVf"
      },
      "execution_count": null,
      "outputs": []
    },
    {
      "cell_type": "code",
      "source": [
        "# prompt: create a list with the age column of df\n",
        "\n",
        "age_list = df['Age'].tolist()\n",
        "print(age_list)\n",
        "\n",
        "# create a sorted version of the list without changing the original\n",
        "sorted_age_list = sorted(age_list)\n",
        "print(sorted_age_list)\n",
        "print(age_list)"
      ],
      "metadata": {
        "id": "N8v0en7oXpW-"
      },
      "execution_count": null,
      "outputs": []
    },
    {
      "cell_type": "markdown",
      "source": [
        "**CPTAC** TUTORIAL: https://paynelab.github.io/cptac/tutorial01_data_intro.html\n",
        "Need to use !pip install cptac"
      ],
      "metadata": {
        "id": "CByCjwXue3Sr"
      }
    },
    {
      "cell_type": "code",
      "source": [
        "# copy from tutorial"
      ],
      "metadata": {
        "id": "kMnF-j9YvHDf"
      },
      "execution_count": null,
      "outputs": []
    },
    {
      "cell_type": "code",
      "source": [
        "# create a scatter plot of protein levels for first two genes in alphabetical ordering\n",
        "\n",
        "import matplotlib.pyplot as plt\n",
        "import seaborn as sns\n",
        "\n",
        "proteomics = en.get_proteomics(source='umich')\n",
        "\n",
        "# Get the gene names - as a list\n",
        "gene_names = proteomics.columns.get_level_values(0).unique()\n",
        "\n",
        "# Sort the gene names alphabetically\n",
        "sorted_genes = sorted(gene_names)\n",
        "\n",
        "print(sorted_genes)\n",
        "\n",
        "# Select the first two genes\n",
        "gene1 = sorted_genes[0]\n",
        "gene2 = sorted_genes[1]\n",
        "\n",
        "print(gene1, gene2)\n",
        "\n",
        "# Get the data for the two selected genes\n",
        "gene_data = en.multi_join({\"umich proteomics\": [gene1, gene2]}, levels_to_drop='Database_ID')\n",
        "\n",
        "print(gene_data.head())\n",
        "\n",
        "# Create the scatter plot\n",
        "sns.set(style=\"darkgrid\")\n",
        "plot = sns.regplot(x=gene_data.iloc[:, 0], y=gene_data.iloc[:, 1], data=gene_data)\n",
        "#plot = sns.regplot(x=gene_data[gene1], y=gene_data[gene2], data=gene_data)\n",
        "\n",
        "# Label the axes and add a title\n",
        "plot.set(xlabel=f'{gene1} Proteomics', ylabel=f'{gene2} Proteomics',\n",
        "         title=f'Proteomics Levels for {gene1} vs. {gene2}')\n",
        "\n",
        "plt.show()"
      ],
      "metadata": {
        "id": "SHKiBtkBvIEU"
      },
      "execution_count": null,
      "outputs": []
    }
  ]
}