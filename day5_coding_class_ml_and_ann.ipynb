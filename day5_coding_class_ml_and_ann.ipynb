{
  "nbformat": 4,
  "nbformat_minor": 0,
  "metadata": {
    "colab": {
      "provenance": [],
      "mount_file_id": "1ARf9ouZcMA5bu1ZTZhH4zSrLlxoaG-OO",
      "authorship_tag": "ABX9TyNY+ULQWF0Qq52ymZGeT3Rs",
      "include_colab_link": true
    },
    "kernelspec": {
      "name": "python3",
      "display_name": "Python 3"
    },
    "language_info": {
      "name": "python"
    }
  },
  "cells": [
    {
      "cell_type": "markdown",
      "metadata": {
        "id": "view-in-github",
        "colab_type": "text"
      },
      "source": [
        "<a href=\"https://colab.research.google.com/github/ZuckermanLab/CodingClass2025/blob/main/day5_coding_class_ml_and_ann.ipynb\" target=\"_parent\"><img src=\"https://colab.research.google.com/assets/colab-badge.svg\" alt=\"Open In Colab\"/></a>"
      ]
    },
    {
      "cell_type": "markdown",
      "source": [
        "# PSI Coding Class: Machine Learning with Neural Networks"
      ],
      "metadata": {
        "id": "nUo2QVnRGR_f"
      }
    },
    {
      "cell_type": "markdown",
      "source": [
        "## Introduction to Machine Learning\n",
        "**What is Machine Learning, and Why Should You Learn It?**\n",
        "\n",
        "Machine learning is the science of teaching computers to find patterns and make predictions from data—just like how we learn from examples, but with the power to handle huge amounts of information. It is fun because you get to teach a computer to do something new and see it improve over time, and it is useful because machine learning is everywhere: in medicine, art, finance, and even helping scientists discover new things faster.\n",
        "\n",
        "In this class, we will learn what machine learning is by building and training a neural network to do regression—a way to predict numbers from data—so you can see how it works in practice. We will learn together by doing, so you will leave this class with your first working machine learning model, and the confidence to keep exploring more on your own.\n",
        "\n",
        "There are a few standard steps to machine learning:  \n",
        "1. Preprocessing your data\n",
        "2. Splitting the data into training and testing portions\n",
        "3. Training the machine learning model\n",
        "4. Evaluating the model's accuracy\n",
        "\n",
        "We will walk through all of these steps together. We'll start by importing some python libraries so that we have the functions we need."
      ],
      "metadata": {
        "id": "L0NlR8cmHYO7"
      }
    },
    {
      "cell_type": "code",
      "source": [
        "!pip install gdown"
      ],
      "metadata": {
        "id": "HRn-xha2HZGl",
        "colab": {
          "base_uri": "https://localhost:8080/"
        },
        "outputId": "cbba4740-1496-466a-8de4-095308f6f95c"
      },
      "execution_count": null,
      "outputs": [
        {
          "output_type": "stream",
          "name": "stdout",
          "text": [
            "Requirement already satisfied: gdown in /usr/local/lib/python3.11/dist-packages (5.2.0)\n",
            "Requirement already satisfied: beautifulsoup4 in /usr/local/lib/python3.11/dist-packages (from gdown) (4.13.4)\n",
            "Requirement already satisfied: filelock in /usr/local/lib/python3.11/dist-packages (from gdown) (3.18.0)\n",
            "Requirement already satisfied: requests[socks] in /usr/local/lib/python3.11/dist-packages (from gdown) (2.32.3)\n",
            "Requirement already satisfied: tqdm in /usr/local/lib/python3.11/dist-packages (from gdown) (4.67.1)\n",
            "Requirement already satisfied: soupsieve>1.2 in /usr/local/lib/python3.11/dist-packages (from beautifulsoup4->gdown) (2.7)\n",
            "Requirement already satisfied: typing-extensions>=4.0.0 in /usr/local/lib/python3.11/dist-packages (from beautifulsoup4->gdown) (4.14.1)\n",
            "Requirement already satisfied: charset-normalizer<4,>=2 in /usr/local/lib/python3.11/dist-packages (from requests[socks]->gdown) (3.4.2)\n",
            "Requirement already satisfied: idna<4,>=2.5 in /usr/local/lib/python3.11/dist-packages (from requests[socks]->gdown) (3.10)\n",
            "Requirement already satisfied: urllib3<3,>=1.21.1 in /usr/local/lib/python3.11/dist-packages (from requests[socks]->gdown) (2.5.0)\n",
            "Requirement already satisfied: certifi>=2017.4.17 in /usr/local/lib/python3.11/dist-packages (from requests[socks]->gdown) (2025.7.14)\n",
            "Requirement already satisfied: PySocks!=1.5.7,>=1.5.6 in /usr/local/lib/python3.11/dist-packages (from requests[socks]->gdown) (1.7.1)\n"
          ]
        }
      ]
    },
    {
      "cell_type": "code",
      "source": [
        "import gdown\n",
        "import numpy as np\n",
        "import pandas as pd"
      ],
      "metadata": {
        "id": "tP3pFqscHcgg"
      },
      "execution_count": null,
      "outputs": []
    },
    {
      "cell_type": "markdown",
      "source": [
        "### Load the Data!\n",
        "To train the model, we first need to obtain data and bring it into the python \"environment\" - the space that python has access to.  \n",
        "\n",
        "We'll be working with some example data from a data set of [_multiplexed immunohistochemistry (mIHC)_](https://pmc.ncbi.nlm.nih.gov/articles/PMC7170662/). mIHC is a technique for getting a lot of information about the different proteins that individual cells are expressing. This data helps biomedical researchers and doctors learn what cell types are in a tissue sample from a patient, and it helps them to figure out different kinds of cancers or how well a patient's treatment is working.  \n",
        "\n",
        "The data we will be using today looks a little like this when it is viewed as an image:  \n",
        "![example mIHC](https://cdn.ncbi.nlm.nih.gov/pmc/blobs/5536/7170662/e99beed88e14/CAC2-40-135-g003.jpg)<sup>1</sup>\n",
        "\n",
        "Each of the colors in this picture represents a different protein being measured with mIHC. if a pixel has a certain color, then it means that some amount of the protein was measured there. We then perform _[cell segmentation](https://www.sciencedirect.com/topics/computer-science/cell-segmentation)_ to see which pixels belong to each cell.\n",
        "\n",
        "mIHC data is very large (the data we are using is over 500 MB!). We'll use a special python library called [`gdown`](https://pypi.org/project/gdown/) to download the data to the Google Colab \"[runtime](https://research.google.com/colaboratory/local-runtimes.html)\" and then use [`pandas`](https://pypi.org/project/pandas/) to load that data into the python \"[environment](https://www.reddit.com/r/pythontips/comments/1exrhb9/what_is_a_python_environment_in_simple_terms/).\" Let's load the data now."
      ],
      "metadata": {
        "id": "mmAyRJn4HmOM"
      }
    },
    {
      "cell_type": "code",
      "source": [
        "file_id = \"1dViAJS4AwFzYYdfcXDqwZNm9UBUFhQmR\"  # use the file ID for the public Google data set\n",
        "output_file_name = \"mihc_mean_intensity_data.csv\"  # name for the file to save the data to\n",
        "gdown.download(f\"https://drive.google.com/uc?id={file_id}\", output_file_name, quiet=False) # download the data!"
      ],
      "metadata": {
        "id": "GOMD4RIwHlcc",
        "colab": {
          "base_uri": "https://localhost:8080/",
          "height": 128
        },
        "outputId": "f3ef30bf-5ade-46cc-addc-b3d468cc4937"
      },
      "execution_count": null,
      "outputs": [
        {
          "output_type": "stream",
          "name": "stderr",
          "text": [
            "Downloading...\n",
            "From (original): https://drive.google.com/uc?id=1dViAJS4AwFzYYdfcXDqwZNm9UBUFhQmR\n",
            "From (redirected): https://drive.google.com/uc?id=1dViAJS4AwFzYYdfcXDqwZNm9UBUFhQmR&confirm=t&uuid=d5feac1a-6263-4d05-8d8c-3d1273f307f1\n",
            "To: /content/mihc_mean_intensity_data.csv\n",
            "100%|██████████| 563M/563M [00:08<00:00, 62.7MB/s]\n"
          ]
        },
        {
          "output_type": "execute_result",
          "data": {
            "text/plain": [
              "'mihc_mean_intensity_data.csv'"
            ],
            "application/vnd.google.colaboratory.intrinsic+json": {
              "type": "string"
            }
          },
          "metadata": {},
          "execution_count": 7
        }
      ]
    },
    {
      "cell_type": "code",
      "source": [
        "  # bring the saved data into the python environment\n",
        "  datafile = \"mihc_mean_intensity_data.csv\"\n",
        "  data = pd.read_csv(datafile)"
      ],
      "metadata": {
        "id": "LXqO3gAiKhon"
      },
      "execution_count": null,
      "outputs": []
    },
    {
      "cell_type": "markdown",
      "source": [
        "Let's take a look at the top part of the data using the `head()` function from `pandas`. Notice the names of the columns. Each column is the name of a different protein that was measured with mIHC. Each row is the amount of that protein measured from one cell."
      ],
      "metadata": {
        "id": "9JuqYkjDKq_j"
      }
    },
    {
      "cell_type": "code",
      "source": [
        "data.head()"
      ],
      "metadata": {
        "colab": {
          "base_uri": "https://localhost:8080/",
          "height": 206
        },
        "id": "A4AcQUMRKlMd",
        "outputId": "ce63d89b-39b1-49a4-f03b-53c58e289219"
      },
      "execution_count": null,
      "outputs": [
        {
          "output_type": "execute_result",
          "data": {
            "text/plain": [
              "        DNA       PD1     MHCII     CD206      CD45     CD11C      LY6G  \\\n",
              "0  0.355294  0.012567  0.005253  0.003666  0.005381  0.014136  0.010670   \n",
              "1  0.251264  0.002504  0.014198  0.003024  0.001914  0.014718  0.001488   \n",
              "2  0.300036  0.006298  0.002139  0.012549  0.010671  0.023696  0.009222   \n",
              "3  0.284706  0.002993  0.001631  0.000475  0.002848  0.012446  0.007203   \n",
              "4  0.297536  0.003167  0.006637  0.010156  0.005380  0.024359  0.004198   \n",
              "\n",
              "       GRZB     FOXP3       CC3       CD8     CD11B       CD3     LY6B2  \\\n",
              "0  0.035987  0.009394  0.022745  0.001642  0.038212  0.004943  0.003301   \n",
              "1  0.029813  0.003071  0.000661  0.000969  0.009662  0.005410  0.009615   \n",
              "2  0.010410  0.011432  0.003898  0.019370  0.021485  0.010125  0.008247   \n",
              "3  0.012157  0.000702  0.002023  0.005325  0.089143  0.017172  0.006935   \n",
              "4  0.033183  0.008321  0.002841  0.004902  0.085219  0.013550  0.005807   \n",
              "\n",
              "       F480      ASMA      KI67     PANCK  \n",
              "0  0.039015  0.248263  0.108837  0.056689  \n",
              "1  0.014883  0.275833  0.086133  0.054453  \n",
              "2  0.008675  0.326061  0.068925  0.057849  \n",
              "3  0.067554  0.193044  0.092508  0.065986  \n",
              "4  0.152288  0.177577  0.107416  0.060256  "
            ],
            "text/html": [
              "\n",
              "  <div id=\"df-8074d80b-ca9d-4f0a-8ad4-37fdbd83cdbd\" class=\"colab-df-container\">\n",
              "    <div>\n",
              "<style scoped>\n",
              "    .dataframe tbody tr th:only-of-type {\n",
              "        vertical-align: middle;\n",
              "    }\n",
              "\n",
              "    .dataframe tbody tr th {\n",
              "        vertical-align: top;\n",
              "    }\n",
              "\n",
              "    .dataframe thead th {\n",
              "        text-align: right;\n",
              "    }\n",
              "</style>\n",
              "<table border=\"1\" class=\"dataframe\">\n",
              "  <thead>\n",
              "    <tr style=\"text-align: right;\">\n",
              "      <th></th>\n",
              "      <th>DNA</th>\n",
              "      <th>PD1</th>\n",
              "      <th>MHCII</th>\n",
              "      <th>CD206</th>\n",
              "      <th>CD45</th>\n",
              "      <th>CD11C</th>\n",
              "      <th>LY6G</th>\n",
              "      <th>GRZB</th>\n",
              "      <th>FOXP3</th>\n",
              "      <th>CC3</th>\n",
              "      <th>CD8</th>\n",
              "      <th>CD11B</th>\n",
              "      <th>CD3</th>\n",
              "      <th>LY6B2</th>\n",
              "      <th>F480</th>\n",
              "      <th>ASMA</th>\n",
              "      <th>KI67</th>\n",
              "      <th>PANCK</th>\n",
              "    </tr>\n",
              "  </thead>\n",
              "  <tbody>\n",
              "    <tr>\n",
              "      <th>0</th>\n",
              "      <td>0.355294</td>\n",
              "      <td>0.012567</td>\n",
              "      <td>0.005253</td>\n",
              "      <td>0.003666</td>\n",
              "      <td>0.005381</td>\n",
              "      <td>0.014136</td>\n",
              "      <td>0.010670</td>\n",
              "      <td>0.035987</td>\n",
              "      <td>0.009394</td>\n",
              "      <td>0.022745</td>\n",
              "      <td>0.001642</td>\n",
              "      <td>0.038212</td>\n",
              "      <td>0.004943</td>\n",
              "      <td>0.003301</td>\n",
              "      <td>0.039015</td>\n",
              "      <td>0.248263</td>\n",
              "      <td>0.108837</td>\n",
              "      <td>0.056689</td>\n",
              "    </tr>\n",
              "    <tr>\n",
              "      <th>1</th>\n",
              "      <td>0.251264</td>\n",
              "      <td>0.002504</td>\n",
              "      <td>0.014198</td>\n",
              "      <td>0.003024</td>\n",
              "      <td>0.001914</td>\n",
              "      <td>0.014718</td>\n",
              "      <td>0.001488</td>\n",
              "      <td>0.029813</td>\n",
              "      <td>0.003071</td>\n",
              "      <td>0.000661</td>\n",
              "      <td>0.000969</td>\n",
              "      <td>0.009662</td>\n",
              "      <td>0.005410</td>\n",
              "      <td>0.009615</td>\n",
              "      <td>0.014883</td>\n",
              "      <td>0.275833</td>\n",
              "      <td>0.086133</td>\n",
              "      <td>0.054453</td>\n",
              "    </tr>\n",
              "    <tr>\n",
              "      <th>2</th>\n",
              "      <td>0.300036</td>\n",
              "      <td>0.006298</td>\n",
              "      <td>0.002139</td>\n",
              "      <td>0.012549</td>\n",
              "      <td>0.010671</td>\n",
              "      <td>0.023696</td>\n",
              "      <td>0.009222</td>\n",
              "      <td>0.010410</td>\n",
              "      <td>0.011432</td>\n",
              "      <td>0.003898</td>\n",
              "      <td>0.019370</td>\n",
              "      <td>0.021485</td>\n",
              "      <td>0.010125</td>\n",
              "      <td>0.008247</td>\n",
              "      <td>0.008675</td>\n",
              "      <td>0.326061</td>\n",
              "      <td>0.068925</td>\n",
              "      <td>0.057849</td>\n",
              "    </tr>\n",
              "    <tr>\n",
              "      <th>3</th>\n",
              "      <td>0.284706</td>\n",
              "      <td>0.002993</td>\n",
              "      <td>0.001631</td>\n",
              "      <td>0.000475</td>\n",
              "      <td>0.002848</td>\n",
              "      <td>0.012446</td>\n",
              "      <td>0.007203</td>\n",
              "      <td>0.012157</td>\n",
              "      <td>0.000702</td>\n",
              "      <td>0.002023</td>\n",
              "      <td>0.005325</td>\n",
              "      <td>0.089143</td>\n",
              "      <td>0.017172</td>\n",
              "      <td>0.006935</td>\n",
              "      <td>0.067554</td>\n",
              "      <td>0.193044</td>\n",
              "      <td>0.092508</td>\n",
              "      <td>0.065986</td>\n",
              "    </tr>\n",
              "    <tr>\n",
              "      <th>4</th>\n",
              "      <td>0.297536</td>\n",
              "      <td>0.003167</td>\n",
              "      <td>0.006637</td>\n",
              "      <td>0.010156</td>\n",
              "      <td>0.005380</td>\n",
              "      <td>0.024359</td>\n",
              "      <td>0.004198</td>\n",
              "      <td>0.033183</td>\n",
              "      <td>0.008321</td>\n",
              "      <td>0.002841</td>\n",
              "      <td>0.004902</td>\n",
              "      <td>0.085219</td>\n",
              "      <td>0.013550</td>\n",
              "      <td>0.005807</td>\n",
              "      <td>0.152288</td>\n",
              "      <td>0.177577</td>\n",
              "      <td>0.107416</td>\n",
              "      <td>0.060256</td>\n",
              "    </tr>\n",
              "  </tbody>\n",
              "</table>\n",
              "</div>\n",
              "    <div class=\"colab-df-buttons\">\n",
              "\n",
              "  <div class=\"colab-df-container\">\n",
              "    <button class=\"colab-df-convert\" onclick=\"convertToInteractive('df-8074d80b-ca9d-4f0a-8ad4-37fdbd83cdbd')\"\n",
              "            title=\"Convert this dataframe to an interactive table.\"\n",
              "            style=\"display:none;\">\n",
              "\n",
              "  <svg xmlns=\"http://www.w3.org/2000/svg\" height=\"24px\" viewBox=\"0 -960 960 960\">\n",
              "    <path d=\"M120-120v-720h720v720H120Zm60-500h600v-160H180v160Zm220 220h160v-160H400v160Zm0 220h160v-160H400v160ZM180-400h160v-160H180v160Zm440 0h160v-160H620v160ZM180-180h160v-160H180v160Zm440 0h160v-160H620v160Z\"/>\n",
              "  </svg>\n",
              "    </button>\n",
              "\n",
              "  <style>\n",
              "    .colab-df-container {\n",
              "      display:flex;\n",
              "      gap: 12px;\n",
              "    }\n",
              "\n",
              "    .colab-df-convert {\n",
              "      background-color: #E8F0FE;\n",
              "      border: none;\n",
              "      border-radius: 50%;\n",
              "      cursor: pointer;\n",
              "      display: none;\n",
              "      fill: #1967D2;\n",
              "      height: 32px;\n",
              "      padding: 0 0 0 0;\n",
              "      width: 32px;\n",
              "    }\n",
              "\n",
              "    .colab-df-convert:hover {\n",
              "      background-color: #E2EBFA;\n",
              "      box-shadow: 0px 1px 2px rgba(60, 64, 67, 0.3), 0px 1px 3px 1px rgba(60, 64, 67, 0.15);\n",
              "      fill: #174EA6;\n",
              "    }\n",
              "\n",
              "    .colab-df-buttons div {\n",
              "      margin-bottom: 4px;\n",
              "    }\n",
              "\n",
              "    [theme=dark] .colab-df-convert {\n",
              "      background-color: #3B4455;\n",
              "      fill: #D2E3FC;\n",
              "    }\n",
              "\n",
              "    [theme=dark] .colab-df-convert:hover {\n",
              "      background-color: #434B5C;\n",
              "      box-shadow: 0px 1px 3px 1px rgba(0, 0, 0, 0.15);\n",
              "      filter: drop-shadow(0px 1px 2px rgba(0, 0, 0, 0.3));\n",
              "      fill: #FFFFFF;\n",
              "    }\n",
              "  </style>\n",
              "\n",
              "    <script>\n",
              "      const buttonEl =\n",
              "        document.querySelector('#df-8074d80b-ca9d-4f0a-8ad4-37fdbd83cdbd button.colab-df-convert');\n",
              "      buttonEl.style.display =\n",
              "        google.colab.kernel.accessAllowed ? 'block' : 'none';\n",
              "\n",
              "      async function convertToInteractive(key) {\n",
              "        const element = document.querySelector('#df-8074d80b-ca9d-4f0a-8ad4-37fdbd83cdbd');\n",
              "        const dataTable =\n",
              "          await google.colab.kernel.invokeFunction('convertToInteractive',\n",
              "                                                    [key], {});\n",
              "        if (!dataTable) return;\n",
              "\n",
              "        const docLinkHtml = 'Like what you see? Visit the ' +\n",
              "          '<a target=\"_blank\" href=https://colab.research.google.com/notebooks/data_table.ipynb>data table notebook</a>'\n",
              "          + ' to learn more about interactive tables.';\n",
              "        element.innerHTML = '';\n",
              "        dataTable['output_type'] = 'display_data';\n",
              "        await google.colab.output.renderOutput(dataTable, element);\n",
              "        const docLink = document.createElement('div');\n",
              "        docLink.innerHTML = docLinkHtml;\n",
              "        element.appendChild(docLink);\n",
              "      }\n",
              "    </script>\n",
              "  </div>\n",
              "\n",
              "\n",
              "    <div id=\"df-cdfe30f4-190b-4f5f-a59c-a64ef4c4fe3d\">\n",
              "      <button class=\"colab-df-quickchart\" onclick=\"quickchart('df-cdfe30f4-190b-4f5f-a59c-a64ef4c4fe3d')\"\n",
              "                title=\"Suggest charts\"\n",
              "                style=\"display:none;\">\n",
              "\n",
              "<svg xmlns=\"http://www.w3.org/2000/svg\" height=\"24px\"viewBox=\"0 0 24 24\"\n",
              "     width=\"24px\">\n",
              "    <g>\n",
              "        <path d=\"M19 3H5c-1.1 0-2 .9-2 2v14c0 1.1.9 2 2 2h14c1.1 0 2-.9 2-2V5c0-1.1-.9-2-2-2zM9 17H7v-7h2v7zm4 0h-2V7h2v10zm4 0h-2v-4h2v4z\"/>\n",
              "    </g>\n",
              "</svg>\n",
              "      </button>\n",
              "\n",
              "<style>\n",
              "  .colab-df-quickchart {\n",
              "      --bg-color: #E8F0FE;\n",
              "      --fill-color: #1967D2;\n",
              "      --hover-bg-color: #E2EBFA;\n",
              "      --hover-fill-color: #174EA6;\n",
              "      --disabled-fill-color: #AAA;\n",
              "      --disabled-bg-color: #DDD;\n",
              "  }\n",
              "\n",
              "  [theme=dark] .colab-df-quickchart {\n",
              "      --bg-color: #3B4455;\n",
              "      --fill-color: #D2E3FC;\n",
              "      --hover-bg-color: #434B5C;\n",
              "      --hover-fill-color: #FFFFFF;\n",
              "      --disabled-bg-color: #3B4455;\n",
              "      --disabled-fill-color: #666;\n",
              "  }\n",
              "\n",
              "  .colab-df-quickchart {\n",
              "    background-color: var(--bg-color);\n",
              "    border: none;\n",
              "    border-radius: 50%;\n",
              "    cursor: pointer;\n",
              "    display: none;\n",
              "    fill: var(--fill-color);\n",
              "    height: 32px;\n",
              "    padding: 0;\n",
              "    width: 32px;\n",
              "  }\n",
              "\n",
              "  .colab-df-quickchart:hover {\n",
              "    background-color: var(--hover-bg-color);\n",
              "    box-shadow: 0 1px 2px rgba(60, 64, 67, 0.3), 0 1px 3px 1px rgba(60, 64, 67, 0.15);\n",
              "    fill: var(--button-hover-fill-color);\n",
              "  }\n",
              "\n",
              "  .colab-df-quickchart-complete:disabled,\n",
              "  .colab-df-quickchart-complete:disabled:hover {\n",
              "    background-color: var(--disabled-bg-color);\n",
              "    fill: var(--disabled-fill-color);\n",
              "    box-shadow: none;\n",
              "  }\n",
              "\n",
              "  .colab-df-spinner {\n",
              "    border: 2px solid var(--fill-color);\n",
              "    border-color: transparent;\n",
              "    border-bottom-color: var(--fill-color);\n",
              "    animation:\n",
              "      spin 1s steps(1) infinite;\n",
              "  }\n",
              "\n",
              "  @keyframes spin {\n",
              "    0% {\n",
              "      border-color: transparent;\n",
              "      border-bottom-color: var(--fill-color);\n",
              "      border-left-color: var(--fill-color);\n",
              "    }\n",
              "    20% {\n",
              "      border-color: transparent;\n",
              "      border-left-color: var(--fill-color);\n",
              "      border-top-color: var(--fill-color);\n",
              "    }\n",
              "    30% {\n",
              "      border-color: transparent;\n",
              "      border-left-color: var(--fill-color);\n",
              "      border-top-color: var(--fill-color);\n",
              "      border-right-color: var(--fill-color);\n",
              "    }\n",
              "    40% {\n",
              "      border-color: transparent;\n",
              "      border-right-color: var(--fill-color);\n",
              "      border-top-color: var(--fill-color);\n",
              "    }\n",
              "    60% {\n",
              "      border-color: transparent;\n",
              "      border-right-color: var(--fill-color);\n",
              "    }\n",
              "    80% {\n",
              "      border-color: transparent;\n",
              "      border-right-color: var(--fill-color);\n",
              "      border-bottom-color: var(--fill-color);\n",
              "    }\n",
              "    90% {\n",
              "      border-color: transparent;\n",
              "      border-bottom-color: var(--fill-color);\n",
              "    }\n",
              "  }\n",
              "</style>\n",
              "\n",
              "      <script>\n",
              "        async function quickchart(key) {\n",
              "          const quickchartButtonEl =\n",
              "            document.querySelector('#' + key + ' button');\n",
              "          quickchartButtonEl.disabled = true;  // To prevent multiple clicks.\n",
              "          quickchartButtonEl.classList.add('colab-df-spinner');\n",
              "          try {\n",
              "            const charts = await google.colab.kernel.invokeFunction(\n",
              "                'suggestCharts', [key], {});\n",
              "          } catch (error) {\n",
              "            console.error('Error during call to suggestCharts:', error);\n",
              "          }\n",
              "          quickchartButtonEl.classList.remove('colab-df-spinner');\n",
              "          quickchartButtonEl.classList.add('colab-df-quickchart-complete');\n",
              "        }\n",
              "        (() => {\n",
              "          let quickchartButtonEl =\n",
              "            document.querySelector('#df-cdfe30f4-190b-4f5f-a59c-a64ef4c4fe3d button');\n",
              "          quickchartButtonEl.style.display =\n",
              "            google.colab.kernel.accessAllowed ? 'block' : 'none';\n",
              "        })();\n",
              "      </script>\n",
              "    </div>\n",
              "\n",
              "    </div>\n",
              "  </div>\n"
            ],
            "application/vnd.google.colaboratory.intrinsic+json": {
              "type": "dataframe",
              "variable_name": "data"
            }
          },
          "metadata": {},
          "execution_count": 9
        }
      ]
    },
    {
      "cell_type": "markdown",
      "source": [
        "## The Regression Task\n",
        "One of the proteins we measured in this mIHC experiment is [Ki67](https://en.wikipedia.org/wiki/Ki-67_(protein)). Ki67 is a signal we look for in cells to see if they are growing and dividing. But testing for every signal in every cell can take a lot of time and resources. If we can predict Ki67 by looking at other signals the cell has, we can figure out which cells are growing without extra tests. This helps us better understand how cells behave in tissues like tumors and can make research faster and easier.\n",
        "\n",
        "Let's split the data into our target (Ki67) and the predictor variables now."
      ],
      "metadata": {
        "id": "GIcskmiaNWO0"
      }
    },
    {
      "cell_type": "code",
      "source": [
        "# Split into X (features) and y (target)\n",
        "target_column='KI67'\n",
        "X = data.drop(columns=[target_column]).values\n",
        "y = data[target_column].values.reshape(-1, 1)"
      ],
      "metadata": {
        "id": "4Dn-tse2P-tj"
      },
      "execution_count": null,
      "outputs": []
    },
    {
      "cell_type": "markdown",
      "source": [
        "### 1. Cleaning and Preparing Your Data (Preprocessing)"
      ],
      "metadata": {
        "id": "D0cPu_L0zMf7"
      }
    },
    {
      "cell_type": "markdown",
      "source": [
        "\n",
        "\n",
        "Before we teach our computer, we need to get our data ready by making the numbers comparable. Some protein measurements might be on very different scales (e.g., one is 0-10, another is 0-1000). We use techniques like scaling or standardizing to bring them to a similar range so no single measurement unfairly dominates. Think of it like making sure everyone's scores are out of 100 before comparing them. Figure 1 illustrates two types of preprocessing techniques used in machine learning.\n",
        "\n",
        "![](https://github.com/emcramer/psicodinclass2025/blob/main/preprocess-data.png?raw=true)  \n",
        "**Figure 1.** Standardization and Scaling for preprocessing data before training a machine learning algorithm.\n",
        "\n",
        "Let's scale our data now to get it ready for the next step. We'll use the [`StandardScaler()`](https://scikit-learn.org/stable/modules/generated/sklearn.preprocessing.StandardScaler.html) from sci-kit learn to do the standardization process for us."
      ],
      "metadata": {
        "id": "3DlJdP_NNSUI"
      }
    },
    {
      "cell_type": "code",
      "source": [
        "# import the necessary functions from scikit-learn\n",
        "from sklearn.preprocessing import StandardScaler, MinMaxScaler\n",
        "\n",
        "# scale the data!\n",
        "\n",
        "# step 1: make some objects to scale the data\n",
        "standardizer_X = StandardScaler()\n",
        "standardizer_y = StandardScaler()\n",
        "minmaxer_x = MinMaxScaler()\n",
        "minmaxer_y = MinMaxScaler()\n",
        "\n",
        "# step 2: standardize the data\n",
        "X_standard = standardizer_X.fit_transform(X)\n",
        "y_standard = standardizer_y.fit_transform(y)\n",
        "\n",
        "# step 3: scale the data to be between 0-1\n",
        "X_scaled = minmaxer_x.fit_transform(X_standard)\n",
        "y_scaled = standardizer_y.fit_transform(y_standard)"
      ],
      "metadata": {
        "id": "R4heRGFeQF-e"
      },
      "execution_count": null,
      "outputs": []
    },
    {
      "cell_type": "code",
      "source": [],
      "metadata": {
        "id": "hGjQfitbycvn"
      },
      "execution_count": null,
      "outputs": []
    },
    {
      "cell_type": "markdown",
      "source": [
        "### 2. Splitting Your Data: Learning and Testing\n",
        "\n",
        "We can't test our model on the exact data it learned from, or it will just memorize the answers! So, we split our data into three parts:\n",
        "\n",
        "Training Set: This is the biggest chunk, which the computer \"learns\" from. It sees the protein measurements and their corresponding Ki67 values.\n",
        "\n",
        "Validation Set: This is a smaller set used to fine-tune the model during the learning process. It's like a practice quiz to see if the computer is understanding things correctly.\n",
        "\n",
        "Test Set: This is the untouched data used only at the very end to see how well the computer can predict Ki67 for completely new cells. This is the real exam!\n",
        "\n",
        "![](https://raw.githubusercontent.com/emcramer/psicodinclass2025/refs/heads/main/data-split.png)  \n",
        "**Figure 2.** Illustrating how we split our data set into training, testing, and validation sets. Each set has a different purpose: (1) train the machine learning model, (2) test the model's accuracy, (3) check how well the model performs while testing."
      ],
      "metadata": {
        "id": "5MzBNQOrKaly"
      }
    },
    {
      "cell_type": "code",
      "source": [
        "# import the function we need to split the data into training and testing from\n",
        "# scikit-learn\n",
        "from sklearn.model_selection import train_test_split\n",
        "\n",
        "# Split into train (80%), test (20%)\n",
        "X_trainval, X_test, y_trainval, y_test = train_test_split(\n",
        "    X_scaled, y_scaled, test_size=0.2, random_state=42\n",
        ")\n",
        "\n",
        "# Further split train into train (80%) and validation (20%)\n",
        "X_train, X_val, y_train, y_val = train_test_split(\n",
        "    X_trainval, y_trainval, test_size=0.2, random_state=42\n",
        ")"
      ],
      "metadata": {
        "id": "pyy1N5FpQqAt"
      },
      "execution_count": null,
      "outputs": []
    },
    {
      "cell_type": "markdown",
      "source": [
        "**Double Check Data Types!!!**\n",
        "\n",
        "We are planning to train a neural network using the [`pytorch`](https://pytorch.org/) package to predict the value of Ki67 from the rest of a cell's proteins. To use this package, we need to make sure that the data is in the correct [object type](https://bham-carpentries.github.io/2018-12-17-bham_python-novice-inflammation/02-variables/index.html). Pytorch expects a [tensor](https://docs.pytorch.org/tutorials/beginner/introyt/tensors_deeper_tutorial.html) data type, so that is what we will convert the data to."
      ],
      "metadata": {
        "id": "DXl4lzDaQvg5"
      }
    },
    {
      "cell_type": "code",
      "source": [
        "# import the pytorch library so we can convert the data to a pytorch data object (called a \"tensor\")\n",
        "import torch\n",
        "\n",
        "# Convert the X and y to the appropriate data type for PyTorch!\n",
        "# Convert to torch tensors and make sure that the values are floats with 32 bits\n",
        "X_train_tensor = torch.tensor(X_train, dtype=torch.float32)\n",
        "y_train_tensor = torch.tensor(y_train, dtype=torch.float32)\n",
        "X_val_tensor = torch.tensor(X_val, dtype=torch.float32)\n",
        "y_val_tensor = torch.tensor(y_val, dtype=torch.float32)\n",
        "X_test_tensor = torch.tensor(X_test, dtype=torch.float32)\n",
        "y_test_tensor = torch.tensor(y_test, dtype=torch.float32)"
      ],
      "metadata": {
        "id": "wZ6xQsnxQu6k"
      },
      "execution_count": null,
      "outputs": []
    },
    {
      "cell_type": "markdown",
      "source": [
        "### 3. Teaching the Computer (Training the Regression Model)\n",
        "\n",
        "We use a type of machine learning called a regression model. This model tries to find a mathematical relationship between the other protein markers (A, B, C) and the Ki67 intensity.\n",
        "\n",
        "Think of it like drawing a line (or a more complex curve) through a scatter plot of our data. The model adjusts its internal \"rules\" to make the best possible line that goes through as many of our training data points as possible. It's learning how changes in other proteins relate to changes in Ki67.\n",
        "\n",
        "To help conceive of the training process visually, we can think of making a linear regression model. Watch the animation below. What happens to the line as we increase the number of training iterations? What happens to the slope and intercept (m and b)?\n",
        "\n",
        "![](https://github.com/emcramer/psicodinclass2025/blob/main/regression_training_animation.gif?raw=true)\n",
        "\n",
        "We are going to use a neural network to make this prediction, not linear regression. Before we train the network, let's do a deeper dive on how neural networks work.\n",
        "\n",
        "### What is a Neural Network?\n",
        "Neural networks are a type of algorithm designed to recognize patterns and make decisions. It's called a \"neural network\" because the basic building block of the algorithm, a \"neuron,\" is inspired by how neurons in the human brain work.\n",
        "\n",
        "Biological neurons have dendrites to receive input, a body for processing inputs (like a threshold for sodium levels), and an axon with terminal ends to pass along information.  \n",
        "\n",
        "![](https://askabiologist.asu.edu/sites/default/files/resources/articles/neuron_anatomy.jpg)\n",
        "\n",
        "Information moves from one neuron to the next in a network by getting passed from the first neuron's axon to the second neuron's dendrites.\n",
        "\n",
        "In **artificial neural networks**, neurons can be modeled or represented as a sequence of mathematical functions. Each neuron has multiple inputs (dendrites) and an output that can connect to other neurons (axon terminals). The neuron multiplies each of its inputs by a specific weight and adds a fixed value called a bias, similar to point-slope formula for making a line in algebra. The sum of all the inputs is calculated, and then a special transformation called an \"activation function\" is used to convert the sum into a value between 0 and 1 (sort of like the signal processing that occurs in the body of a real-life neuron). The output can then be passed to the next layer of neurons in the network.\n",
        "\n",
        "To build an artificial neural network, multiple neurons can be connected with the outputs of one neuron becoming the inputs of the next neuron. These connections are sort of like synapses between biological neurons in the brain.\n",
        "\n",
        "Neurons can be connected in layers with different patterns that perform a sequence of mathematical operations on the input data. The structure of the layera and the order of the operations is what allows the network to learn how to find patterns in the data. The first layer of neurons that receives the data is the input layer. The last layer of neurons outputs the prediction of the network, so this is called the \"output layer.\" The layers in-between the input and output layers are called \"hidden layers.\" In this diagram, each circle is a neuron in the artificial neural network.\n",
        "\n",
        "![](https://github.com/emcramer/psicodinclass2025/blob/main/neural-network-architecture.png?raw=true)\n",
        "\n",
        "In a sense, neural networks are like doing linear regression over and over again, in small steps! By combining many linear regressions and using one regression's output for another regression's input, the neural network can approximate _non-linear relationships_ that are too complicated for the simple $y=mx+b$ formula.\n",
        "\n",
        "For articial neural networks to make accurate predictions, they must be trained to find what the between combinations of weights and biases should be for each neuron in the network. The values of the weights and biases are usually found through \"forward passes\" and \"backpropagation.\"\n",
        "\n",
        "In the forward pass, input data is fed into the network, and the network calculates a prediction. The accuracy of that prediction is then check using a \"loss function.\" Based on how accurate or inaccurate the prediction was, the weights and biases for each of the neurons are updated to a new value in a process called backpropagation. To get the most accurate predictions, the forward passes and backpropagation need to be repeated with A LOT of data.\n",
        "\n",
        "Let's implement a neural network in pytorch and lean how to optimize it (make it the most accurate we can) now."
      ],
      "metadata": {
        "id": "SyK9c32aRmcn"
      }
    },
    {
      "cell_type": "code",
      "source": [
        "# import the neural network module from pytorch!\n",
        "import torch.nn as nn\n",
        "\n",
        "# Make a simple neural network with pytorch - that's it!\n",
        "# don't worry about the \"class\" keyword in python for now\n",
        "class SimpleNN(nn.Module):\n",
        "    def __init__(self, input_dim):\n",
        "        super().__init__()\n",
        "        self.model = nn.Sequential(\n",
        "            nn.Linear(input_dim, 64),\n",
        "            nn.ReLU(),\n",
        "            nn.Linear(64, 32),\n",
        "            nn.ReLU(),\n",
        "            nn.Linear(32, 16),\n",
        "            nn.ReLU(),\n",
        "            nn.Linear(16, 1)\n",
        "        )\n",
        "\n",
        "    def forward(self, x):\n",
        "        return self.model(x)"
      ],
      "metadata": {
        "id": "qdLhzOpoTB8F"
      },
      "execution_count": null,
      "outputs": []
    },
    {
      "cell_type": "code",
      "source": [
        "# make a variable to hold the neural network\n",
        "model = SimpleNN(input_dim=X_train_tensor.shape[1])"
      ],
      "metadata": {
        "id": "tgWcqtZ2TRa-"
      },
      "execution_count": null,
      "outputs": []
    },
    {
      "cell_type": "markdown",
      "source": [
        "### Network Parameters\n",
        "When we train a neural network, we have to tell it how to learn. Three important settings help with this:  \n",
        "1. _Loss criterion_: This is like a score that tells the network how wrong its guesses are, so it knows what to fix.\n",
        "2. _Epochs_: This is how many times the network goes through all the training data to practice and get better.\n",
        "3. _Learning rate_: This controls how big the network’s changes are each time it learns, like deciding whether to take small careful steps or big fast steps when trying to improve.\n",
        "\n",
        "By choosing these settings carefully, we help the neural network learn in a way that is accurate and efficient."
      ],
      "metadata": {
        "id": "YabDCzHcTik1"
      }
    },
    {
      "cell_type": "code",
      "source": [
        "# import the optimizer module from pytorch!\n",
        "import torch.optim as optim\n",
        "\n",
        "# Define parameters for the training step\n",
        "criterion = nn.MSELoss() # MSE = mean squared error!\n",
        "learning_rate = 0.001\n",
        "optimizer = optim.Adam(model.parameters(), lr=learning_rate)\n",
        "epochs = 100"
      ],
      "metadata": {
        "id": "yXxt1hS2TRYH"
      },
      "execution_count": null,
      "outputs": []
    },
    {
      "cell_type": "markdown",
      "source": [
        "#### Train the Network!\n",
        "Now that we have the network, its architecture or structure, and we set the parameters, it is time to train it to make predictions. The code below trains the neural network and checks how well it is learning over time. Here is a step by step for what it is doing.\n",
        "\n",
        "1. Set up lists to keep track of training loss, validation loss, and weight sizes so we can see how they change as the model learns.\n",
        "\n",
        "2. Repeat for each epoch (one full round of practice over all the training data):\n",
        "\n",
        "        - Put the model in training mode so it can update itself.\n",
        "\n",
        "        - Clear out old gradients so we start fresh.\n",
        "\n",
        "        - Make predictions on the training data.\n",
        "\n",
        "        - Calculate how wrong the predictions are using the loss criterion.\n",
        "\n",
        "        - Calculate how to adjust the model to improve (backpropagation).\n",
        "\n",
        "        - Update the model with these adjustments (optimizer step).\n",
        "\n",
        "        - Record the current training loss to track progress.\n",
        "\n",
        "3. Then, check how well the model does on validation data, which is data it hasn’t seen during training:\n",
        "\n",
        "        - Put the model in evaluation mode so it does not update itself.\n",
        "\n",
        "        - Make predictions on the validation data.\n",
        "\n",
        "        - Calculate and record how wrong the predictions are on this validation data.\n",
        "\n",
        "4. Record the size of the model’s weights to see how big they are getting, which helps monitor the model’s behavior.\n",
        "\n",
        "5. Every 10 epochs, print out the training and validation losses so we can watch the model’s progress as it learns.\n",
        "\n",
        "In simple terms:  \n",
        "✨ This code teaches the model, checks how well it is learning, keeps track of its progress, and shows us updates as it improves over time."
      ],
      "metadata": {
        "id": "5O4D5yrBUezF"
      }
    },
    {
      "cell_type": "code",
      "source": [
        "def train_model(model, X_train_tensor, y_train_tensor, X_val_tensor, y_val_tensor):\n",
        "  train_losses = []\n",
        "  val_losses = []\n",
        "  weight_norms = []\n",
        "\n",
        "  for epoch in range(epochs):\n",
        "      model.train()\n",
        "      optimizer.zero_grad()\n",
        "      outputs = model(X_train_tensor)\n",
        "      loss = criterion(outputs, y_train_tensor)\n",
        "      loss.backward()\n",
        "      optimizer.step()\n",
        "\n",
        "      train_losses.append(loss.item())\n",
        "\n",
        "      # Validation loss tracking\n",
        "      model.eval()\n",
        "      with torch.no_grad():\n",
        "          val_outputs = model(X_val_tensor)\n",
        "          val_loss = criterion(val_outputs, y_val_tensor)\n",
        "          val_losses.append(val_loss.item())\n",
        "\n",
        "          w = model.model[0].weight  # adjust layer index as needed\n",
        "          norm = torch.norm(w).item()\n",
        "          weight_norms.append(norm)\n",
        "\n",
        "      if (epoch + 1) % 10 == 0:\n",
        "          print(f\"Epoch [{epoch+1}/{epochs}] Train Loss: {loss.item():.4f} | Val Loss: {val_loss.item():.4f}\")\n",
        "  return model, train_losses, val_losses, weight_norms\n",
        "\n",
        "model, train_losses, val_losses, weight_norms = train_model(model, X_train_tensor, y_train_tensor, X_val_tensor, y_val_tensor)"
      ],
      "metadata": {
        "id": "_n-QeEoJTRV1",
        "colab": {
          "base_uri": "https://localhost:8080/"
        },
        "outputId": "b2859e47-c378-4ff0-9f35-9647999ecb33"
      },
      "execution_count": null,
      "outputs": [
        {
          "output_type": "stream",
          "name": "stdout",
          "text": [
            "Epoch [10/100] Train Loss: 1.0032 | Val Loss: 0.9981\n",
            "Epoch [20/100] Train Loss: 0.9899 | Val Loss: 0.9847\n",
            "Epoch [30/100] Train Loss: 0.9735 | Val Loss: 0.9680\n",
            "Epoch [40/100] Train Loss: 0.9493 | Val Loss: 0.9426\n",
            "Epoch [50/100] Train Loss: 0.9088 | Val Loss: 0.9004\n",
            "Epoch [60/100] Train Loss: 0.8476 | Val Loss: 0.8372\n",
            "Epoch [70/100] Train Loss: 0.7663 | Val Loss: 0.7553\n",
            "Epoch [80/100] Train Loss: 0.6892 | Val Loss: 0.6828\n",
            "Epoch [90/100] Train Loss: 0.6593 | Val Loss: 0.6574\n",
            "Epoch [100/100] Train Loss: 0.6453 | Val Loss: 0.6442\n"
          ]
        }
      ]
    },
    {
      "cell_type": "markdown",
      "source": [
        "\n",
        "\n",
        "\n",
        "\n",
        "\n",
        "\n",
        "\n",
        "### 4. Checking How Good It Is (Evaluating Accuracy)\n",
        "\n",
        "Once the model is trained, we use the test set to see how well it predicts Ki67 for cells it's never seen before.\n",
        "\n",
        "We compare the Ki67 values the model predicts with the actual Ki67 values in the test set.\n",
        "\n",
        "Metrics like Mean Squared Error (MSE) or R-squared tell us how close the predictions are to the real values. A lower MSE or a higher R-squared means our model is doing a better job of predicting cell proliferation!\n"
      ],
      "metadata": {
        "id": "wIX7g765hmDT"
      }
    },
    {
      "cell_type": "code",
      "source": [
        "# import matplotlib for plotting\n",
        "import matplotlib.pyplot as plt\n",
        "\n",
        "def plot_loss(train_losses, val_losses):\n",
        "  # plot the mean squared error on the training and validation data sets\n",
        "  plt.figure(figsize=(8, 5))\n",
        "  plt.plot(train_losses, label='Train MSE', color='blue')\n",
        "  plt.plot(val_losses, label='Validation MSE', color='orange')\n",
        "  plt.xlabel('Epoch')\n",
        "  plt.ylabel('Mean Squared Error (MSE)')\n",
        "  plt.title('Training vs Validation MSE per Epoch')\n",
        "  plt.legend()\n",
        "  plt.grid(True)\n",
        "  plt.tight_layout()\n",
        "  plt.show()\n",
        "\n",
        "plot_loss(train_losses, val_losses)"
      ],
      "metadata": {
        "colab": {
          "base_uri": "https://localhost:8080/",
          "height": 507
        },
        "id": "Za1RtbU9AQSS",
        "outputId": "b510b20b-91d5-47cd-d9a6-b18fae468305"
      },
      "execution_count": null,
      "outputs": [
        {
          "output_type": "display_data",
          "data": {
            "text/plain": [
              "<Figure size 800x500 with 1 Axes>"
            ],
            "image/png": "[encoded data removed]"
          },
          "metadata": {}
        }
      ]
    },
    {
      "cell_type": "markdown",
      "source": [
        "How **accurate** is our model? Let's write a function that takes the model we want to test and gives it the testing tensors to check its accuracy."
      ],
      "metadata": {
        "id": "YHZKgJHOVTSb"
      }
    },
    {
      "cell_type": "code",
      "execution_count": null,
      "metadata": {
        "id": "-dgsFI7jc2IE",
        "colab": {
          "base_uri": "https://localhost:8080/"
        },
        "outputId": "b7710037-05aa-480b-b063-fa77f67fef9d"
      },
      "outputs": [
        {
          "output_type": "stream",
          "name": "stdout",
          "text": [
            "Final Test MSE: 0.6415\n"
          ]
        }
      ],
      "source": [
        "def print_model_accuracy(model, X_test_tensor, y_test_tensor):\n",
        "  model.eval()\n",
        "  with torch.no_grad():\n",
        "      test_outputs = model(X_test_tensor)\n",
        "      test_loss = criterion(test_outputs, y_test_tensor)\n",
        "      print(f\"Final Test MSE: {test_loss.item():.4f}\")\n",
        "      return test_loss.item()\n",
        "\n",
        "test_mse = print_model_accuracy(model, X_test_tensor, y_test_tensor)"
      ]
    },
    {
      "cell_type": "markdown",
      "source": [
        "The mean squared error is telling us that on average, our model prediction is off by the square root of that value.  \n",
        "<img src=\"https://i0.wp.com/statisticsbyjim.com/wp-content/uploads/2017/04/residuals.png?w=684&ssl=1\" width=\"240px\"/>\n",
        "\n",
        "Because the errors have been squared, the units have changed. If we want to know on average how much signal intensity is, then we need to take the square of the MSE, called the \"Root Mean Squared Error\" or RMSE."
      ],
      "metadata": {
        "id": "FHtnNFBivMQu"
      }
    },
    {
      "cell_type": "code",
      "source": [
        "# print the RMSE!\n",
        "print(f\"On average, the model prediction was off by {np.round(np.sqrt(test_mse), 2)} units of protein intensity.\")"
      ],
      "metadata": {
        "colab": {
          "base_uri": "https://localhost:8080/"
        },
        "id": "wLZkevxVxGYG",
        "outputId": "80678ff8-78d1-4602-9d8d-80527114f8cd"
      },
      "execution_count": null,
      "outputs": [
        {
          "output_type": "stream",
          "name": "stdout",
          "text": [
            "On average, the model prediction was off by 0.8 units of protein intensity.\n"
          ]
        }
      ]
    },
    {
      "cell_type": "markdown",
      "source": [
        "## Experimenting with Neural Networks!\n",
        "Now that you're a neural network expert, try some of these exercises and see if you can make a more accurate model!  Don't get discouraged if you get stuck. Ask questions and don't be afraid to use chatGPT to help understand the code..."
      ],
      "metadata": {
        "id": "2bEt2C0ZjqFM"
      }
    },
    {
      "cell_type": "markdown",
      "source": [
        "### Exercise \\#1. What happens if you add more or less training epochs? (easy)"
      ],
      "metadata": {
        "id": "BXOMLIYSkbcm"
      }
    },
    {
      "cell_type": "code",
      "source": [
        "# Define parameters for the training step\n",
        "criterion = nn.MSELoss() # MSE = mean squared error!\n",
        "learning_rate = 0.001\n",
        "optimizer = optim.Adam(model.parameters(), lr=learning_rate)\n",
        "\n",
        "\n",
        "##### Uncomment and change this line!!\n",
        "# epochs = _____\n",
        "\n",
        "model, train_losses, val_losses, weight_norms = train_model(model, X_train_tensor, y_train_tensor, X_val_tensor, y_val_tensor)\n",
        "plot_loss(train_losses, val_losses)\n",
        "print_model_accuracy(model, X_test_tensor, y_test_tensor)"
      ],
      "metadata": {
        "id": "dxJ1wEp2uf8M"
      },
      "execution_count": null,
      "outputs": []
    },
    {
      "cell_type": "markdown",
      "source": [
        "2. What happens if you change the learning rate? (medium)"
      ],
      "metadata": {
        "id": "sk3xOfVNkfoV"
      }
    },
    {
      "cell_type": "code",
      "source": [
        "# Define parameters for the training step\n",
        "criterion = nn.MSELoss() # MSE = mean squared error!\n",
        "\n",
        "##### Uncomment and change this line!!\n",
        "# learning_rate = ____\n",
        "\n",
        "optimizer = optim.Adam(model.parameters(), lr=learning_rate)\n",
        "epochs = 100\n",
        "\n",
        "model, train_losses, val_losses, weight_norms = train_model(model, X_train_tensor, y_train_tensor, X_val_tensor, y_val_tensor)\n",
        "plot_loss(train_losses, val_losses)\n",
        "print_model_accuracy(model, X_test_tensor, y_test_tensor)"
      ],
      "metadata": {
        "id": "NSSURWVHmwb0"
      },
      "execution_count": null,
      "outputs": []
    },
    {
      "cell_type": "markdown",
      "source": [
        "### Exercise \\#3. What happens if you change the activation function? (medium)\n",
        "PyTorch has a lot of different activation functions you can use such as `ReLu`, `Tanh`, and `Softmax`. You can see a list of them [here](https://docs.pytorch.org/docs/stable/nn.html#non-linear-activations-weighted-sum-nonlinearity). Try changing some and see what happens!"
      ],
      "metadata": {
        "id": "7xb_KBsSmpC1"
      }
    },
    {
      "cell_type": "code",
      "source": [
        "class SimpleNN(nn.Module):\n",
        "    def __init__(self, input_dim):\n",
        "        super().__init__()\n",
        "        self.model = nn.Sequential(\n",
        "            nn.Linear(input_dim, 64),\n",
        "            nn.ReLU(), ## <- CHANGE ME!!\n",
        "            nn.Linear(64, 32),\n",
        "            nn.ReLU(), ## <- CHANGE ME!!\n",
        "            nn.Linear(32, 16),\n",
        "            nn.ReLU(), ## <- CHANGE ME!!\n",
        "            nn.Linear(16, 1)\n",
        "        )\n",
        "\n",
        "    def forward(self, x):\n",
        "        return self.model(x)\n",
        "\n",
        "# make a variable to hold the neural network\n",
        "model = SimpleNN(input_dim=X_train_tensor.shape[1])\n",
        "\n",
        "# Define parameters for the training step\n",
        "criterion = nn.MSELoss()\n",
        "learning_rate = 0.001\n",
        "optimizer = optim.Adam(model.parameters(), lr=learning_rate)\n",
        "epochs = 100\n",
        "\n",
        "# train the model\n",
        "model, train_losses, val_losses, weight_norms = train_model(model, X_train_tensor, y_train_tensor, X_val_tensor, y_val_tensor)\n",
        "\n",
        "# plot how well the model performs\n",
        "plot_loss(train_losses, val_losses)\n",
        "\n",
        "# print the model's accuracy\n",
        "print_model_accuracy(model, X_test_tensor, y_test_tensor)"
      ],
      "metadata": {
        "id": "Kgx3hYzIm_Ju"
      },
      "execution_count": null,
      "outputs": []
    },
    {
      "cell_type": "markdown",
      "source": [
        "### Exercise \\#4. What happens if you change the size of the hidden layers in the network? (hard)\n",
        "Try changing the sizes of the layers in the neural network. In PyTorch, the sizes must be multiples of two, and you specify the input and output sizes of a layer like this `nn.LINEAR(input_size, output_size)`. For example `nn.LINEAR(16,8)` makes a linearly connected layer for the neural network with an _input size_ of 16 neurons and an _output size_ of 8 neurons."
      ],
      "metadata": {
        "id": "KqNj5mcmmqdK"
      }
    },
    {
      "cell_type": "code",
      "source": [
        "class SimpleNN(nn.Module):\n",
        "    def __init__(self, input_dim):\n",
        "        super().__init__()\n",
        "        self.model = nn.Sequential(\n",
        "            nn.Linear(input_dim, 64), ## <- CHANGE ME!!\n",
        "            nn.ReLU(),\n",
        "            nn.Linear(64, 32), ## <- CHANGE ME!!\n",
        "            nn.ReLU(),\n",
        "            nn.Linear(32, 16), ## <- CHANGE ME!!\n",
        "            nn.ReLU(),\n",
        "            nn.Linear(16, 1) ## <- CHANGE ME!!\n",
        "        )\n",
        "\n",
        "    def forward(self, x):\n",
        "        return self.model(x)\n",
        "\n",
        "# make a variable to hold the neural network\n",
        "model = SimpleNN(input_dim=X_train_tensor.shape[1])\n",
        "\n",
        "# Define parameters for the training step\n",
        "criterion = nn.MSELoss()\n",
        "learning_rate = 0.001\n",
        "optimizer = optim.Adam(model.parameters(), lr=learning_rate)\n",
        "epochs = 100\n",
        "\n",
        "# train the model\n",
        "model, train_losses, val_losses, weight_norms = train_model(model, X_train_tensor, y_train_tensor, X_val_tensor, y_val_tensor)\n",
        "\n",
        "# plot how well the model performs\n",
        "plot_loss(train_losses, val_losses)\n",
        "\n",
        "# print the model's accuracy\n",
        "print_model_accuracy(model, X_test_tensor, y_test_tensor)"
      ],
      "metadata": {
        "id": "ByMaZcATm_bU"
      },
      "execution_count": null,
      "outputs": []
    },
    {
      "cell_type": "markdown",
      "source": [
        "### Exercise \\#5. What happens if you add a new hidden layer to the network? (harder)\n"
      ],
      "metadata": {
        "id": "lYOSBfGjmo-6"
      }
    },
    {
      "cell_type": "code",
      "source": [
        "class SimpleNN(nn.Module):\n",
        "    def __init__(self, input_dim):\n",
        "        super().__init__()\n",
        "        self.model = nn.Sequential(\n",
        "            nn.Linear(input_dim, 64), ## <- CHANGE ME!!\n",
        "            nn.ReLU(),\n",
        "            nn.Linear(64, 32), ## <- CHANGE ME!!\n",
        "            nn.ReLU(),\n",
        "            nn.Linear(32, 16), ## <- CHANGE ME!!\n",
        "            nn.ReLU(),\n",
        "            nn.Linear(16, 1) ## <- CHANGE ME!!\n",
        "        )\n",
        "\n",
        "    def forward(self, x):\n",
        "        return self.model(x)\n",
        "\n",
        "# make a variable to hold the neural network\n",
        "model = SimpleNN(input_dim=X_train_tensor.shape[1])\n",
        "\n",
        "# Define parameters for the training step\n",
        "criterion = nn.MSELoss()\n",
        "learning_rate = 0.001\n",
        "optimizer = optim.Adam(model.parameters(), lr=learning_rate)\n",
        "epochs = 100\n",
        "\n",
        "# train the model\n",
        "model, train_losses, val_losses, weight_norms = train_model()\n",
        "\n",
        "# plot how well the model performs\n",
        "plot_loss(train_losses, val_losses)\n",
        "\n",
        "# print the model's accuracy\n",
        "print_model_accuracy(model, X_test_tensor, y_test_tensor)"
      ],
      "metadata": {
        "id": "4enl2_4lodM9"
      },
      "execution_count": null,
      "outputs": []
    },
    {
      "cell_type": "markdown",
      "source": [
        "### Exercise \\#6. Add \"early stopping\"\n",
        "Early stopping is a method to end the training cycle when the network's accuracy is not increasing very much (or even getting worse!). This prevents the model from over fitting to the data and saves time and resources. How does this change the network's accuracy on the test data? (super hard)\n",
        "\n",
        "This is a hard one to do after just one week of coding! You'll need to change the `train_model()` function."
      ],
      "metadata": {
        "id": "zfy1ni6Zmo3c"
      }
    },
    {
      "cell_type": "code",
      "source": [
        "#### CHANGE THIS FUNCTION TO ADD EARLY STOPPING!!\n",
        "def train_model_with_early_stopping(model, X_train_tensor, y_train_tensor, X_val_tensor, y_val_tensor):\n",
        "  train_losses = []\n",
        "  val_losses = []\n",
        "  weight_norms = []\n",
        "\n",
        "  for epoch in range(epochs):\n",
        "      model.train()\n",
        "      optimizer.zero_grad()\n",
        "      outputs = model(X_train_tensor)\n",
        "      loss = criterion(outputs, y_train_tensor)\n",
        "      loss.backward()\n",
        "      optimizer.step()\n",
        "\n",
        "      train_losses.append(loss.item())\n",
        "\n",
        "      # Validation loss tracking\n",
        "      model.eval()\n",
        "      with torch.no_grad():\n",
        "          val_outputs = model(X_val_tensor)\n",
        "          val_loss = criterion(val_outputs, y_val_tensor)\n",
        "          val_losses.append(val_loss.item())\n",
        "\n",
        "          w = model.model[0].weight  # adjust layer index as needed\n",
        "          norm = torch.norm(w).item()\n",
        "          weight_norms.append(norm)\n",
        "\n",
        "      if (epoch + 1) % 10 == 0:\n",
        "          print(f\"Epoch [{epoch+1}/{epochs}] Train Loss: {loss.item():.4f} | Val Loss: {val_loss.item():.4f}\")\n",
        "\n",
        "      ##### ADD EARLY STOPPING TO THE FUNCTION\n",
        "      # stop training the model if the training loss during the latest epoch is\n",
        "      # greater than the training loss of the previous epoch\n",
        "      # if _____:\n",
        "      #  print(\"Early stopping\")\n",
        "      #  return model, train_losses, val_losses, weight_norms\n",
        "\n",
        "  return model, train_losses, val_losses, weight_norms\n",
        "\n",
        "class SimpleNN(nn.Module):\n",
        "    def __init__(self, input_dim):\n",
        "        super().__init__()\n",
        "        self.model = nn.Sequential(\n",
        "            nn.Linear(input_dim, 64),\n",
        "            nn.ReLU(),\n",
        "            nn.Linear(64, 32),\n",
        "            nn.ReLU(),\n",
        "            nn.Linear(32, 16),\n",
        "            nn.ReLU(),\n",
        "            nn.Linear(16, 1)\n",
        "        )\n",
        "\n",
        "    def forward(self, x):\n",
        "        return self.model(x)\n",
        "\n",
        "# make a variable to hold the neural network\n",
        "model = SimpleNN(input_dim=X_train_tensor.shape[1])\n",
        "\n",
        "# Define parameters for the training step\n",
        "criterion = nn.MSELoss()\n",
        "learning_rate = 0.001\n",
        "optimizer = optim.Adam(model.parameters(), lr=learning_rate)\n",
        "epochs = 100\n",
        "\n",
        "# train the model\n",
        "model, train_losses, val_losses, weight_norms = train_model_with_early_stopping(model, X_train_tensor, y_train_tensor, X_val_tensor, y_val_tensor)\n",
        "\n",
        "# plot how well the model performs\n",
        "plot_loss(train_losses, val_losses)\n",
        "\n",
        "# print the model's accuracy\n",
        "print_model_accuracy(model, X_test_tensor, y_test_tensor)"
      ],
      "metadata": {
        "id": "fwaOVq3Nog1e"
      },
      "execution_count": null,
      "outputs": []
    },
    {
      "cell_type": "markdown",
      "source": [
        "## References\n",
        "[1] Tan WCC, Nerurkar SN, Cai HY, Ng HHM, Wu D, Wee YTF, Lim JCT, Yeong J, Lim TKH. Overview of multiplex immunohistochemistry/immunofluorescence techniques in the era of cancer immunotherapy. Cancer Commun (Lond). 2020 Apr;40(4):135-153. doi: 10.1002/cac2.12023. Epub 2020 Apr 17. PMID: 32301585; PMCID: PMC7170662.  \n",
        "[2] Goodfellow, I., Bengio, Y., & Courville, A. (2016). Deep Learning. MIT Press. http://www.deeplearningbook.org"
      ],
      "metadata": {
        "id": "bzANczlISMm3"
      }
    },
    {
      "cell_type": "code",
      "source": [],
      "metadata": {
        "id": "9SwIUYSbSQzq"
      },
      "execution_count": null,
      "outputs": []
    }
  ]
}